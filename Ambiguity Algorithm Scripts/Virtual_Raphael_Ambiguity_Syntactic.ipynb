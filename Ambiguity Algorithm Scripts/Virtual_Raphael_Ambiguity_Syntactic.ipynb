{
  "nbformat": 4,
  "nbformat_minor": 0,
  "metadata": {
    "colab": {
      "provenance": []
    },
    "kernelspec": {
      "name": "python3",
      "display_name": "Python 3"
    },
    "language_info": {
      "name": "python"
    }
  },
  "cells": [
    {
      "cell_type": "code",
      "execution_count": null,
      "metadata": {
        "id": "HPqmYsC59j4p"
      },
      "outputs": [],
      "source": [
        "import spacy\n",
        "\n",
        "def detect_subordinate_clauses(doc):\n",
        "    subordinate_clauses = 0\n",
        "    for token in doc:\n",
        "        if token.dep_ in [\"mark\", \"advcl\", \"acl\"]:\n",
        "            subordinate_clauses += 1\n",
        "    return subordinate_clauses\n",
        "\n",
        "def detect_prepositional_phrase_attachment_ambiguities(doc):\n",
        "    potential_ambiguities = []\n",
        "    for token in doc:\n",
        "        if token.pos_ == \"ADP\":\n",
        "            prev_token_1 = token.head\n",
        "            prev_token_2 = prev_token_1.head if prev_token_1.dep_ != \"ROOT\" else None\n",
        "            if prev_token_2 and prev_token_1.dep_ != \"ROOT\":\n",
        "                potential_ambiguities.append(token)\n",
        "    return potential_ambiguities\n",
        "\n",
        "def analyze_sentences(text):\n",
        "    nlp = spacy.load(\"en_core_web_sm\")\n",
        "    doc = nlp(text)\n",
        "    ambiguous_sentences = []\n",
        "\n",
        "    for sent in doc.sents:\n",
        "        subordinate_clauses = detect_subordinate_clauses(sent)\n",
        "        prepositional_phrase_ambiguities = detect_prepositional_phrase_attachment_ambiguities(sent)\n",
        "\n",
        "        if subordinate_clauses > 2 or prepositional_phrase_ambiguities:\n",
        "            ambiguous_sentences.append(sent.text)\n",
        "\n",
        "    return ambiguous_sentences\n",
        "\n",
        "def read_input_file(file_path):\n",
        "    with open(file_path, 'r') as file:\n",
        "        return file.read()\n",
        "\n",
        "def write_output_file(sentences, output_path):\n",
        "    with open(output_path, 'w') as file:\n",
        "        for sentence in sentences:\n",
        "            file.write(sentence + \"\\n\")\n",
        "\n",
        "def main(input_file, output_file):\n",
        "    text = read_input_file(input_file)\n",
        "    ambiguous_sentences = analyze_sentences(text)\n",
        "    write_output_file(ambiguous_sentences, output_file)\n",
        "    print(f\"Potentially ambiguous sentences have been written to {output_file}\")\n",
        "\n",
        "if __name__ == \"__main__\":\n",
        "    input_file = \"your_file.txt\"\n",
        "    output_file = \"Potentially Ambiguous Sentences.txt\"\n",
        "    main(input_file, output_file)\n"
      ]
    }
  ]
}