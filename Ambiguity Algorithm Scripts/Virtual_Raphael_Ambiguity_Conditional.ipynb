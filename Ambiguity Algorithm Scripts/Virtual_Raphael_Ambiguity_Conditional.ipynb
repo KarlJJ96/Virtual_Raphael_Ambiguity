{
  "nbformat": 4,
  "nbformat_minor": 0,
  "metadata": {
    "colab": {
      "provenance": []
    },
    "kernelspec": {
      "name": "python3",
      "display_name": "Python 3"
    },
    "language_info": {
      "name": "python"
    }
  },
  "cells": [
    {
      "cell_type": "code",
      "execution_count": null,
      "metadata": {
        "id": "wlFu9RLt9xod"
      },
      "outputs": [],
      "source": [
        "import spacy\n",
        "\n",
        "# List of conditional and disjunctive conjunctions\n",
        "conditional_conjunctions = [\"if\", \"when\", \"unless\", \"as long as\", \"provided that\", \"in case\"]\n",
        "disjunctive_conjunctions = [\"or\", \"either\"]\n",
        "\n",
        "def detect_conditional_conjunctions(doc):\n",
        "    for token in doc:\n",
        "        if token.text.lower() in conditional_conjunctions:\n",
        "            return True\n",
        "    return False\n",
        "\n",
        "def detect_disjunctive_conjunctions(doc):\n",
        "    for token in doc:\n",
        "        if token.text.lower() in disjunctive_conjunctions:\n",
        "            return True\n",
        "    return False\n",
        "\n",
        "def detect_nested_conditions(doc):\n",
        "    condition_count = 0\n",
        "    for token in doc:\n",
        "        if token.text.lower() in conditional_conjunctions:\n",
        "            condition_count += 1\n",
        "        if condition_count > 1:\n",
        "            return True\n",
        "    return False\n",
        "\n",
        "def analyze_sentences(text):\n",
        "    nlp = spacy.load(\"en_core_web_sm\")\n",
        "    doc = nlp(text)\n",
        "    ambiguous_sentences = []\n",
        "\n",
        "    for sent in doc.sents:\n",
        "        has_conditional_conjunction = detect_conditional_conjunctions(sent)\n",
        "        has_disjunctive_conjunction = detect_disjunctive_conjunctions(sent)\n",
        "        has_nested_conditions = detect_nested_conditions(sent)\n",
        "\n",
        "        if has_conditional_conjunction and (has_disjunctive_conjunction or has_nested_conditions):\n",
        "            ambiguous_sentences.append(sent.text)\n",
        "\n",
        "    return ambiguous_sentences\n",
        "\n",
        "def read_input_file(file_path):\n",
        "    with open(file_path, 'r') as file:\n",
        "        return file.read()\n",
        "\n",
        "def write_output_file(sentences, output_path):\n",
        "    with open(output_path, 'w') as file:\n",
        "        for sentence in sentences:\n",
        "            file.write(sentence + \"\\n\")\n",
        "\n",
        "def main(input_file, output_file):\n",
        "    text = read_input_file(input_file)\n",
        "    ambiguous_sentences = analyze_sentences(text)\n",
        "    write_output_file(ambiguous_sentences, output_file)\n",
        "    print(f\"Potentially ambiguous sentences have been written to {output_file}\")\n",
        "\n",
        "if __name__ == \"__main__\":\n",
        "    input_file = \"your_file.txt\"\n",
        "    output_file = \"Potentially Ambiguous Sentences.txt\"\n",
        "    main(input_file, output_file)\n"
      ]
    }
  ]
}