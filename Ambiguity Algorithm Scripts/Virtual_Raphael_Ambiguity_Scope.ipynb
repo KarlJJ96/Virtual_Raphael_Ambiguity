{
  "nbformat": 4,
  "nbformat_minor": 0,
  "metadata": {
    "colab": {
      "provenance": []
    },
    "kernelspec": {
      "name": "python3",
      "display_name": "Python 3"
    },
    "language_info": {
      "name": "python"
    }
  },
  "cells": [
    {
      "cell_type": "code",
      "execution_count": null,
      "metadata": {
        "id": "XApiufLW93A_"
      },
      "outputs": [],
      "source": [
        "import spacy\n",
        "\n",
        "def detect_scope_ambiguity(doc):\n",
        "    for token in doc:\n",
        "        if token.pos_ == \"VERB\":\n",
        "            has_direct_object = any(child.dep_ == \"dobj\" for child in token.children)\n",
        "            if not has_direct_object:\n",
        "                return True\n",
        "    return False\n",
        "\n",
        "def analyze_sentences(text):\n",
        "    nlp = spacy.load(\"en_core_web_sm\")\n",
        "    doc = nlp(text)\n",
        "    ambiguous_sentences = []\n",
        "\n",
        "    for sent in doc.sents:\n",
        "        has_scope_ambiguity = detect_scope_ambiguity(sent)\n",
        "\n",
        "        if has_scope_ambiguity:\n",
        "            ambiguous_sentences.append(sent.text)\n",
        "\n",
        "    return ambiguous_sentences\n",
        "\n",
        "def read_input_file(file_path):\n",
        "    with open(file_path, 'r') as file:\n",
        "        return file.read()\n",
        "\n",
        "def write_output_file(sentences, output_path):\n",
        "    with open(output_path, 'w') as file:\n",
        "        for sentence in sentences:\n",
        "            file.write(sentence + \"\\n\")\n",
        "\n",
        "def main(input_file, output_file):\n",
        "    text = read_input_file(input_file)\n",
        "    ambiguous_sentences = analyze_sentences(text)\n",
        "    write_output_file(ambiguous_sentences, output_file)\n",
        "    print(f\"Potentially ambiguous sentences have been written to {output_file}\")\n",
        "\n",
        "if __name__ == \"__main__\":\n",
        "    input_file = \"your_file.txt\"\n",
        "    output_file = \"Potentially Ambiguous Sentences.txt\"\n",
        "    main(input_file, output_file)\n"
      ]
    }
  ]
}