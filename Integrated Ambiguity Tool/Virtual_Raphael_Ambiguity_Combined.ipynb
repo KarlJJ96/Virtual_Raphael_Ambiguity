{
  "nbformat": 4,
  "nbformat_minor": 0,
  "metadata": {
    "colab": {
      "provenance": []
    },
    "kernelspec": {
      "name": "python3",
      "display_name": "Python 3"
    },
    "language_info": {
      "name": "python"
    }
  },
  "cells": [
    {
      "cell_type": "code",
      "execution_count": null,
      "metadata": {
        "id": "IfvA-hv-BxA7"
      },
      "outputs": [],
      "source": [
        "import fitz  # PyMuPDF\n",
        "import os\n",
        "\n",
        "# Import functions from converted scripts\n",
        "from ambiguity_conditional import check_conditional_ambiguity\n",
        "from ambiguity_lexical import check_lexical_ambiguity\n",
        "from ambiguity_quantity import check_quantity_ambiguity\n",
        "from ambiguity_scope import check_scope_ambiguity\n",
        "from ambiguity_syntactic import check_syntactic_ambiguity\n",
        "from ambiguity_temporal import check_temporal_ambiguity\n",
        "from ambiguity_uomeasurement import check_uomeasurement_ambiguity\n",
        "from undefined_abbreviations_acronyms import check_undefined_abbreviations_acronyms\n",
        "\n",
        "# Define functions to extract text from PDF\n",
        "def extract_text_from_pdf(pdf_path):\n",
        "    pdf_document = fitz.open(pdf_path)\n",
        "    text = \"\"\n",
        "    for page_num in range(pdf_document.page_count):\n",
        "        page = pdf_document[page_num]\n",
        "        text += page.get_text()\n",
        "    return text\n",
        "\n",
        "# Define function to write output to a text file\n",
        "def write_output_to_file(output_text, output_path):\n",
        "    with open(output_path, 'w') as file:\n",
        "        file.write(output_text)\n",
        "\n",
        "# Main script to process the PDF and generate outputs\n",
        "def main(pdf_path, output_dir, ambiguity_checks):\n",
        "    text = extract_text_from_pdf(pdf_path)\n",
        "\n",
        "    if \"ambiguous_sentences\" in ambiguity_checks:\n",
        "        ambiguous_sentences = \"\"\n",
        "        if \"conditional\" in ambiguity_checks:\n",
        "            ambiguous_sentences += check_conditional_ambiguity(text)\n",
        "        if \"lexical\" in ambiguity_checks:\n",
        "            ambiguous_sentences += check_lexical_ambiguity(text)\n",
        "        if \"quantity\" in ambiguity_checks:\n",
        "            ambiguous_sentences += check_quantity_ambiguity(text)\n",
        "        if \"scope\" in ambiguity_checks:\n",
        "            ambiguous_sentences += check_scope_ambiguity(text)\n",
        "        if \"syntactic\" in ambiguity_checks:\n",
        "            ambiguous_sentences += check_syntactic_ambiguity(text)\n",
        "        if \"temporal\" in ambiguity_checks:\n",
        "            ambiguous_sentences += check_temporal_ambiguity(text)\n",
        "        if \"uomeasurement\" in ambiguity_checks:\n",
        "            inconsistencies, sentences_with_issues = check_uomeasurement_ambiguity(text)\n",
        "            if inconsistencies:\n",
        "                write_output_to_file(\"\\n\".join(inconsistencies), os.path.join(output_dir, \"Inconsistent_Use_of_Units.txt\"))\n",
        "            if sentences_with_issues:\n",
        "                write_output_to_file(\"\\n\".join(sentences_with_issues), os.path.join(output_dir, \"Potentially_Ambiguous_Sentences.txt\"))\n",
        "\n",
        "    if \"undefined_abbreviations\" in ambiguity_checks:\n",
        "        undefined_abbreviations = check_undefined_abbreviations_acronyms(pdf_path)\n",
        "        write_output_to_file(undefined_abbreviations, os.path.join(output_dir, \"Undefined_Abbreviations_and_Acronyms.txt\"))\n",
        "\n",
        "    if \"inconsistent_units\" in ambiguity_checks:\n",
        "        inconsistent_units = check_uomeasurement_ambiguity(text)\n",
        "        write_output_to_file(inconsistent_units, os.path.join(output_dir, \"Inconsistent_Use_of_Units.txt\"))\n",
        "\n",
        "# Example usage\n",
        "if __name__ == \"__main__\":\n",
        "    pdf_path = \"your_file.pdf\" #replace\n",
        "    output_dir = \"output folder\" #replace\n",
        "    ambiguity_checks = [\"conditional\", \"lexical\", \"quantity\", \"scope\", \"syntactic\", \"temporal\", \"uomeasurement\", \"undefined_abbreviations\", \"inconsistent_units\"]  # Make selection\n",
        "    main(pdf_path, output_dir, ambiguity_checks)\n"
      ]
    }
  ]
}