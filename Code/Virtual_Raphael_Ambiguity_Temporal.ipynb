{
  "nbformat": 4,
  "nbformat_minor": 0,
  "metadata": {
    "colab": {
      "provenance": []
    },
    "kernelspec": {
      "name": "python3",
      "display_name": "Python 3"
    },
    "language_info": {
      "name": "python"
    }
  },
  "cells": [
    {
      "cell_type": "code",
      "execution_count": null,
      "metadata": {
        "id": "Phblctwy9oqP"
      },
      "outputs": [],
      "source": [
        "import spacy\n",
        "\n",
        "# List of vague temporal words and expressions\n",
        "vague_temporal_words = [\n",
        "    \"frequently\", \"periodically\", \"every so often\", \"sometimes\", \"occasionally\",\n",
        "    \"often\", \"regularly\", \"from time to time\", \"at times\", \"once in a while\",\n",
        "    \"rarely\", \"seldom\", \"usually\", \"generally\", \"normally\", \"typically\", \"extended time\"\n",
        "]\n",
        "\n",
        "# List of temporal conjunctions and adverbs\n",
        "temporal_conjunctions = [\n",
        "    \"before\", \"after\", \"during\", \"simultaneously\", \"while\", \"when\", \"until\",\n",
        "    \"once\", \"since\", \"as soon as\", \"whenever\"\n",
        "]\n",
        "\n",
        "def detect_vague_temporal_words(doc):\n",
        "    for token in doc:\n",
        "        if token.text.lower() in vague_temporal_words:\n",
        "            return True\n",
        "    return False\n",
        "\n",
        "def detect_temporal_conjunction_ambiguities(doc):\n",
        "    for token in doc:\n",
        "        if token.text.lower() in temporal_conjunctions:\n",
        "            # Check the dependency relations to determine potential ambiguity\n",
        "            head = token.head\n",
        "            if head and head.pos_ in [\"VERB\", \"AUX\"]:\n",
        "                for child in head.children:\n",
        "                    if child.dep_ in [\"advcl\", \"prep\", \"mark\"] and child != token:\n",
        "                        return True\n",
        "    return False\n",
        "\n",
        "def analyze_sentences(text):\n",
        "    nlp = spacy.load(\"en_core_web_sm\")\n",
        "    doc = nlp(text)\n",
        "    ambiguous_sentences = []\n",
        "\n",
        "    for sent in doc.sents:\n",
        "        has_vague_temporal_word = detect_vague_temporal_words(sent)\n",
        "        has_temporal_conjunction_ambiguity = detect_temporal_conjunction_ambiguities(sent)\n",
        "\n",
        "        if has_vague_temporal_word or has_temporal_conjunction_ambiguity:\n",
        "            ambiguous_sentences.append(sent.text)\n",
        "\n",
        "    return ambiguous_sentences\n",
        "\n",
        "def read_input_file(file_path):\n",
        "    with open(file_path, 'r') as file:\n",
        "        return file.read()\n",
        "\n",
        "def write_output_file(sentences, output_path):\n",
        "    with open(output_path, 'w') as file:\n",
        "        for sentence in sentences:\n",
        "            file.write(sentence + \"\\n\")\n",
        "\n",
        "def main(input_file, output_file):\n",
        "    text = read_input_file(input_file)\n",
        "    ambiguous_sentences = analyze_sentences(text)\n",
        "    write_output_file(ambiguous_sentences, output_file)\n",
        "    print(f\"Potentially ambiguous sentences have been written to {output_file}\")\n",
        "\n",
        "if __name__ == \"__main__\":\n",
        "    input_file = \"your_file.txt\"\n",
        "    output_file = \"Potentially Ambiguous Sentences.txt\"\n",
        "    main(input_file, output_file)\n"
      ]
    }
  ]
}