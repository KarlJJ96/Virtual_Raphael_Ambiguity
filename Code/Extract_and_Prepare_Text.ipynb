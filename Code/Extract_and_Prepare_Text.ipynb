{
  "nbformat": 4,
  "nbformat_minor": 0,
  "metadata": {
    "colab": {
      "provenance": []
    },
    "kernelspec": {
      "name": "python3",
      "display_name": "Python 3"
    },
    "language_info": {
      "name": "python"
    }
  },
  "cells": [
    {
      "cell_type": "code",
      "execution_count": null,
      "metadata": {
        "id": "coKstpyX-vn9"
      },
      "outputs": [],
      "source": [
        "import fitz  # PyMuPDF\n",
        "import re\n",
        "\n",
        "def extract_text_from_pdf(pdf_path, title_page_number=0, contents_page_number=1):\n",
        "    doc = fitz.open(pdf_path)\n",
        "    text = \"\"\n",
        "\n",
        "    for page_num in range(doc.page_count):\n",
        "        if page_num == title_page_number or page_num == contents_page_number:\n",
        "            continue\n",
        "\n",
        "        page = doc.load_page(page_num)\n",
        "        page_text = page.get_text()\n",
        "\n",
        "        # Remove headers and footers, assuming they contain page numbers or section numbers\n",
        "        lines = page_text.split('\\n')\n",
        "        filtered_lines = []\n",
        "\n",
        "        for line in lines:\n",
        "            # Remove lines that are likely page numbers or section numbers\n",
        "            if re.match(r'^\\d+$', line.strip()) or re.match(r'^[IVXLCDM]+\\.$', line.strip(), re.IGNORECASE):\n",
        "                continue\n",
        "            filtered_lines.append(line)\n",
        "\n",
        "        filtered_text = '\\n'.join(filtered_lines)\n",
        "        text += filtered_text + \"\\n\"\n",
        "\n",
        "    return text\n",
        "\n",
        "def write_text_to_file(text, output_path):\n",
        "    with open(output_path, 'w') as file:\n",
        "        file.write(text)\n",
        "\n",
        "def main(input_pdf, output_text):\n",
        "    text = extract_text_from_pdf(input_pdf)\n",
        "    write_text_to_file(text, output_text)\n",
        "    print(f\"Extracted text has been written to {output_text}\")\n",
        "\n",
        "if __name__ == \"__main__\":\n",
        "    input_pdf = \"your_file.pdf\"\n",
        "    output_text = \"extracted_text.txt\"\n",
        "    main(input_pdf, output_text)\n"
      ]
    }
  ]
}