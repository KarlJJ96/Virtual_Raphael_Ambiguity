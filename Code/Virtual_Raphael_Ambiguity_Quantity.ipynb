{
  "nbformat": 4,
  "nbformat_minor": 0,
  "metadata": {
    "colab": {
      "provenance": []
    },
    "kernelspec": {
      "name": "python3",
      "display_name": "Python 3"
    },
    "language_info": {
      "name": "python"
    }
  },
  "cells": [
    {
      "cell_type": "code",
      "execution_count": null,
      "metadata": {
        "id": "9-SDDnsH9r_e"
      },
      "outputs": [],
      "source": [
        "import spacy\n",
        "\n",
        "# List of ambiguous quantity-related words and expressions\n",
        "ambiguous_quantity_words = [\n",
        "    \"some\", \"many\", \"a handful\", \"enough\", \"several\", \"few\", \"numerous\",\n",
        "    \"various\", \"a lot\", \"plenty\", \"a bit\", \"a little\", \"a couple\", \"a number of\",\n",
        "    \"a portion\", \"an amount\", \"more or less\", \"roughly\", \"around\", \"approximately\"\n",
        "]\n",
        "\n",
        "def detect_ambiguous_quantity_words(doc):\n",
        "    for token in doc:\n",
        "        if token.text.lower() in ambiguous_quantity_words:\n",
        "            return True\n",
        "    return False\n",
        "\n",
        "def analyze_sentences(text):\n",
        "    nlp = spacy.load(\"en_core_web_sm\")\n",
        "    doc = nlp(text)\n",
        "    ambiguous_sentences = []\n",
        "\n",
        "    for sent in doc.sents:\n",
        "        has_ambiguous_quantity_word = detect_ambiguous_quantity_words(sent)\n",
        "\n",
        "        if has_ambiguous_quantity_word:\n",
        "            ambiguous_sentences.append(sent.text)\n",
        "\n",
        "    return ambiguous_sentences\n",
        "\n",
        "def read_input_file(file_path):\n",
        "    with open(file_path, 'r') as file:\n",
        "        return file.read()\n",
        "\n",
        "def write_output_file(sentences, output_path):\n",
        "    with open(output_path, 'w') as file:\n",
        "        for sentence in sentences:\n",
        "            file.write(sentence + \"\\n\")\n",
        "\n",
        "def main(input_file, output_file):\n",
        "    text = read_input_file(input_file)\n",
        "    ambiguous_sentences = analyze_sentences(text)\n",
        "    write_output_file(ambiguous_sentences, output_file)\n",
        "    print(f\"Potentially ambiguous sentences have been written to {output_file}\")\n",
        "\n",
        "if __name__ == \"__main__\":\n",
        "    input_file = \"your_file.txt\"\n",
        "    output_file = \"Potentially Ambiguous Sentences.txt\"\n",
        "    main(input_file, output_file)\n"
      ]
    }
  ]
}